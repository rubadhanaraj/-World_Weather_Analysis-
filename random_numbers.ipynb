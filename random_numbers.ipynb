{
 "cells": [
  {
   "cell_type": "code",
   "execution_count": 1,
   "id": "e4cf8bda",
   "metadata": {},
   "outputs": [],
   "source": [
    "# Import the random module.\n",
    "import random"
   ]
  },
  {
   "cell_type": "code",
   "execution_count": 2,
   "id": "9d4ac217",
   "metadata": {},
   "outputs": [
    {
     "data": {
      "text/plain": [
       "-11"
      ]
     },
     "execution_count": 2,
     "metadata": {},
     "output_type": "execute_result"
    }
   ],
   "source": [
    "random.randint(-90,90)"
   ]
  },
  {
   "cell_type": "code",
   "execution_count": 3,
   "id": "3ed04739",
   "metadata": {},
   "outputs": [
    {
     "data": {
      "text/plain": [
       "0.5416756419012679"
      ]
     },
     "execution_count": 3,
     "metadata": {},
     "output_type": "execute_result"
    }
   ],
   "source": [
    "random.random()"
   ]
  },
  {
   "cell_type": "code",
   "execution_count": 5,
   "id": "822f2c4f",
   "metadata": {},
   "outputs": [
    {
     "data": {
      "text/plain": [
       "[-50.73453515020329,\n",
       " -34.70719397861202,\n",
       " 3.8739535105955065,\n",
       " -17.043338213856604,\n",
       " -21.12098122867264,\n",
       " -73.00958627935451,\n",
       " -1.3820317985753956,\n",
       " -77.00410385009742,\n",
       " -32.899241566550046,\n",
       " 76.33652606863328]"
      ]
     },
     "execution_count": 5,
     "metadata": {},
     "output_type": "execute_result"
    }
   ],
   "source": [
    "x = 1\n",
    "latitudes = []\n",
    "while x < 11:\n",
    "    random_lat = random.randint(-90,89) + random.random()\n",
    "    latitudes.append(random_lat)\n",
    "    x += 1\n",
    "\n",
    "latitudes\n"
   ]
  },
  {
   "cell_type": "code",
   "execution_count": 41,
   "id": "238fa10e",
   "metadata": {},
   "outputs": [
    {
     "data": {
      "text/plain": [
       "21"
      ]
     },
     "execution_count": 41,
     "metadata": {},
     "output_type": "execute_result"
    }
   ],
   "source": [
    "random.randrange(-90, 90, step =3)"
   ]
  },
  {
   "cell_type": "code",
   "execution_count": 42,
   "id": "75befb63",
   "metadata": {},
   "outputs": [
    {
     "data": {
      "text/plain": [
       "58.877058445338776"
      ]
     },
     "execution_count": 42,
     "metadata": {},
     "output_type": "execute_result"
    }
   ],
   "source": [
    "random.uniform(-90, 90)"
   ]
  },
  {
   "cell_type": "code",
   "execution_count": 43,
   "id": "4dbf6fd2",
   "metadata": {},
   "outputs": [],
   "source": [
    "# Import the NumPy module.\n",
    "import numpy as np"
   ]
  },
  {
   "cell_type": "code",
   "execution_count": 44,
   "id": "8b94a0a0",
   "metadata": {},
   "outputs": [
    {
     "data": {
      "text/plain": [
       "73.4377639993248"
      ]
     },
     "execution_count": 44,
     "metadata": {},
     "output_type": "execute_result"
    }
   ],
   "source": [
    "np.random.uniform(-90.000, 90.000)"
   ]
  },
  {
   "cell_type": "code",
   "execution_count": 45,
   "id": "5dcd1e21",
   "metadata": {},
   "outputs": [
    {
     "data": {
      "text/plain": [
       "array([-73.7111671 , -15.80868008, -12.28587665,  31.31412821,\n",
       "        21.8169384 ,  65.96751907,  16.93313001,  69.03259002,\n",
       "       -67.76147037, -37.19899543,  12.33399908, -16.87170216,\n",
       "       -21.24179111, -37.53735511,  89.90800567,  38.06733681,\n",
       "        85.51252295,   0.35194702, -27.56667136, -62.61152268,\n",
       "       -37.80204071, -69.50151514, -58.13402759,  11.80008225,\n",
       "       -64.3002284 , -19.89585496,  32.78461125,  87.32539569,\n",
       "       -41.21804431,  50.5700203 ,  41.26824902, -79.06237099,\n",
       "        70.29009964, -61.41754593,  37.96434746, -12.08340292,\n",
       "        15.69489036, -36.90121925, -87.56678352,  46.30398301,\n",
       "        13.88294844,  45.19131111, -42.54820087,   7.83218427,\n",
       "       -15.40886135,  10.10672719,  39.59426934, -22.75496667,\n",
       "       -58.34754845, -63.92259718])"
      ]
     },
     "execution_count": 45,
     "metadata": {},
     "output_type": "execute_result"
    }
   ],
   "source": [
    "np.random.uniform(-90.000,90.000, size =50)"
   ]
  },
  {
   "cell_type": "code",
   "execution_count": 46,
   "id": "0f972314",
   "metadata": {},
   "outputs": [],
   "source": [
    "# Import timeit.\n",
    "import timeit"
   ]
  },
  {
   "cell_type": "code",
   "execution_count": 47,
   "id": "188ea498",
   "metadata": {},
   "outputs": [
    {
     "name": "stdout",
     "output_type": "stream",
     "text": [
      "21 µs ± 6.22 µs per loop (mean ± std. dev. of 7 runs, 100000 loops each)\n"
     ]
    }
   ],
   "source": [
    "%timeit np.random.uniform(-90.000, 90.000, size=1500)"
   ]
  },
  {
   "cell_type": "code",
   "execution_count": 48,
   "id": "c4aa343a",
   "metadata": {},
   "outputs": [
    {
     "name": "stdout",
     "output_type": "stream",
     "text": [
      "2.66 ms ± 589 µs per loop (mean ± std. dev. of 7 runs, 1000 loops each)\n"
     ]
    }
   ],
   "source": [
    "def latitudes(size):\n",
    "    latitudes = []\n",
    "    x = 0\n",
    "    while x < (size):\n",
    "        random_lat = random.randint(-90, 90) + random.random()\n",
    "        latitudes.append(random_lat)\n",
    "        x += 1\n",
    "    return latitudes\n",
    "# Call the function with 1500.\n",
    "%timeit latitudes(1500)"
   ]
  },
  {
   "cell_type": "code",
   "execution_count": null,
   "id": "f25fa6a5",
   "metadata": {},
   "outputs": [],
   "source": []
  }
 ],
 "metadata": {
  "kernelspec": {
   "display_name": "PythonData",
   "language": "python",
   "name": "pythondata"
  },
  "language_info": {
   "codemirror_mode": {
    "name": "ipython",
    "version": 3
   },
   "file_extension": ".py",
   "mimetype": "text/x-python",
   "name": "python",
   "nbconvert_exporter": "python",
   "pygments_lexer": "ipython3",
   "version": "3.7.13"
  }
 },
 "nbformat": 4,
 "nbformat_minor": 5
}
